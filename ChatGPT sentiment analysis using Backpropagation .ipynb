{
 "cells": [
  {
   "cell_type": "markdown",
   "id": "a024d183",
   "metadata": {},
   "source": [
    "# ChatGPT sentiment analysis using backpropagation"
   ]
  },
  {
   "cell_type": "markdown",
   "id": "74580000",
   "metadata": {},
   "source": [
    "## Topic\n",
    "\n",
    "The dataset for this notebook was obtained by gathering and labeling tweets about ChatGPt that has been a major providor of AI based communication chatbots. The tweets can be good, bad or neutral and my goal is to build a neural network that backpropagates on its error and learns the difference between the three kind of sentences.\n"
   ]
  },
  {
   "cell_type": "markdown",
   "id": "fb10f4a6",
   "metadata": {},
   "source": [
    "## Objective\n",
    "\n",
    "- Build a neural network that can classify a sentence as positive, negative or neutral"
   ]
  },
  {
   "cell_type": "markdown",
   "id": "5b4b7496",
   "metadata": {},
   "source": [
    "## Summary\n",
    "\n",
    "- Importing libraries\n",
    "- The dataset\n",
    "- Converting characters to lower case\n",
    "- Removing punctuation\n",
    "- Removing digits \n",
    "- Tokenizing\n",
    "- Removing stopwrods\n",
    "- Removing frequent words\n",
    "- Stemming\n",
    "- Bag of words\n",
    "- Creating train/test loaders\n",
    "- Building the classifier\n",
    "- Training and inference\n",
    "- Trying out the model\n",
    "- Conclusion"
   ]
  },
  {
   "cell_type": "markdown",
   "id": "31d4775b",
   "metadata": {},
   "source": [
    "### Importing libraries"
   ]
  },
  {
   "cell_type": "code",
   "execution_count": 232,
   "id": "03abc78c",
   "metadata": {},
   "outputs": [],
   "source": [
    "import pandas as pd\n",
    "import matplotlib.pyplot as plt\n",
    "import numpy as np\n",
    "import torch\n",
    "from torch import nn\n",
    "from torch import optim\n",
    "import torch.nn.functional as F\n",
    "from torch.utils.data import Dataset, DataLoader\n",
    "\n",
    "from nltk import word_tokenize\n",
    "from nltk.corpus import stopwords\n",
    "from nltk.tokenize import RegexpTokenizer\n",
    "from nltk.stem import PorterStemmer\n",
    "from scipy.sparse import coo_matrix\n",
    "import string\n",
    "from nltk import FreqDist\n",
    "from nltk.stem import PorterStemmer\n",
    "from sklearn.feature_extraction.text import CountVectorizer\n",
    "from sklearn.model_selection import train_test_split\n",
    "from sklearn.preprocessing import LabelEncoder"
   ]
  },
  {
   "cell_type": "markdown",
   "id": "42214ab2",
   "metadata": {},
   "source": [
    "### The Dataset"
   ]
  },
  {
   "cell_type": "code",
   "execution_count": 233,
   "id": "731f8a9d",
   "metadata": {},
   "outputs": [
    {
     "data": {
      "text/html": [
       "<div>\n",
       "<style scoped>\n",
       "    .dataframe tbody tr th:only-of-type {\n",
       "        vertical-align: middle;\n",
       "    }\n",
       "\n",
       "    .dataframe tbody tr th {\n",
       "        vertical-align: top;\n",
       "    }\n",
       "\n",
       "    .dataframe thead th {\n",
       "        text-align: right;\n",
       "    }\n",
       "</style>\n",
       "<table border=\"1\" class=\"dataframe\">\n",
       "  <thead>\n",
       "    <tr style=\"text-align: right;\">\n",
       "      <th></th>\n",
       "      <th>Unnamed: 0</th>\n",
       "      <th>tweets</th>\n",
       "      <th>labels</th>\n",
       "    </tr>\n",
       "  </thead>\n",
       "  <tbody>\n",
       "    <tr>\n",
       "      <th>0</th>\n",
       "      <td>0</td>\n",
       "      <td>ChatGPT: Optimizing Language Models for Dialog...</td>\n",
       "      <td>neutral</td>\n",
       "    </tr>\n",
       "    <tr>\n",
       "      <th>1</th>\n",
       "      <td>1</td>\n",
       "      <td>Try talking with ChatGPT, our new AI system wh...</td>\n",
       "      <td>good</td>\n",
       "    </tr>\n",
       "    <tr>\n",
       "      <th>2</th>\n",
       "      <td>2</td>\n",
       "      <td>ChatGPT: Optimizing Language Models for Dialog...</td>\n",
       "      <td>neutral</td>\n",
       "    </tr>\n",
       "    <tr>\n",
       "      <th>3</th>\n",
       "      <td>3</td>\n",
       "      <td>THRILLED to share that ChatGPT, our new model ...</td>\n",
       "      <td>good</td>\n",
       "    </tr>\n",
       "    <tr>\n",
       "      <th>4</th>\n",
       "      <td>4</td>\n",
       "      <td>As of 2 minutes ago, @OpenAI released their ne...</td>\n",
       "      <td>bad</td>\n",
       "    </tr>\n",
       "  </tbody>\n",
       "</table>\n",
       "</div>"
      ],
      "text/plain": [
       "   Unnamed: 0                                             tweets   labels\n",
       "0           0  ChatGPT: Optimizing Language Models for Dialog...  neutral\n",
       "1           1  Try talking with ChatGPT, our new AI system wh...     good\n",
       "2           2  ChatGPT: Optimizing Language Models for Dialog...  neutral\n",
       "3           3  THRILLED to share that ChatGPT, our new model ...     good\n",
       "4           4  As of 2 minutes ago, @OpenAI released their ne...      bad"
      ]
     },
     "execution_count": 233,
     "metadata": {},
     "output_type": "execute_result"
    }
   ],
   "source": [
    "data = pd.read_csv(r'C:\\Users\\imane\\Downloads\\archive (9)\\file.csv', sep =\",\")\n",
    "data.head()"
   ]
  },
  {
   "cell_type": "code",
   "execution_count": 234,
   "id": "a4146a46",
   "metadata": {},
   "outputs": [
    {
     "name": "stdout",
     "output_type": "stream",
     "text": [
      "<class 'pandas.core.frame.DataFrame'>\n",
      "RangeIndex: 219294 entries, 0 to 219293\n",
      "Data columns (total 3 columns):\n",
      " #   Column      Non-Null Count   Dtype \n",
      "---  ------      --------------   ----- \n",
      " 0   Unnamed: 0  219294 non-null  int64 \n",
      " 1   tweets      219294 non-null  object\n",
      " 2   labels      219294 non-null  object\n",
      "dtypes: int64(1), object(2)\n",
      "memory usage: 5.0+ MB\n"
     ]
    }
   ],
   "source": [
    "data.info()"
   ]
  },
  {
   "cell_type": "markdown",
   "id": "f25e7415",
   "metadata": {},
   "source": [
    "The dataset contains around 230 000 instances labeled as good, bad or neutral. Senn as I will be using bag of words later on, I decided to only keep a portion of the data  for faster processing."
   ]
  },
  {
   "cell_type": "code",
   "execution_count": 235,
   "id": "b0791e6a",
   "metadata": {},
   "outputs": [],
   "source": [
    "data = data.iloc[:10000]"
   ]
  },
  {
   "cell_type": "code",
   "execution_count": 236,
   "id": "76022966",
   "metadata": {},
   "outputs": [
    {
     "name": "stdout",
     "output_type": "stream",
     "text": [
      "<class 'pandas.core.frame.DataFrame'>\n",
      "RangeIndex: 10000 entries, 0 to 9999\n",
      "Data columns (total 3 columns):\n",
      " #   Column      Non-Null Count  Dtype \n",
      "---  ------      --------------  ----- \n",
      " 0   Unnamed: 0  10000 non-null  int64 \n",
      " 1   tweets      10000 non-null  object\n",
      " 2   labels      10000 non-null  object\n",
      "dtypes: int64(1), object(2)\n",
      "memory usage: 234.5+ KB\n"
     ]
    }
   ],
   "source": [
    "data.info()"
   ]
  },
  {
   "cell_type": "code",
   "execution_count": 237,
   "id": "13cdff28",
   "metadata": {},
   "outputs": [],
   "source": [
    "target = data[\"labels\"]"
   ]
  },
  {
   "cell_type": "code",
   "execution_count": 238,
   "id": "5bf3d92b",
   "metadata": {},
   "outputs": [],
   "source": [
    "df = data.drop(columns=[\"labels\", \"Unnamed: 0\"], axis =1)"
   ]
  },
  {
   "cell_type": "code",
   "execution_count": 239,
   "id": "b2ab73f0",
   "metadata": {},
   "outputs": [
    {
     "data": {
      "text/plain": [
       "0    neutral\n",
       "1       good\n",
       "2    neutral\n",
       "3       good\n",
       "4        bad\n",
       "Name: labels, dtype: object"
      ]
     },
     "execution_count": 239,
     "metadata": {},
     "output_type": "execute_result"
    }
   ],
   "source": [
    "target.head()"
   ]
  },
  {
   "cell_type": "markdown",
   "id": "f1aa035a",
   "metadata": {},
   "source": [
    "Here I isolated the labels and kept only the training samples in the dataset."
   ]
  },
  {
   "cell_type": "markdown",
   "id": "782c7b40",
   "metadata": {},
   "source": [
    "### Converting characters to lower case"
   ]
  },
  {
   "cell_type": "code",
   "execution_count": 240,
   "id": "2a80310d",
   "metadata": {},
   "outputs": [],
   "source": [
    "df[\"tweets\"] = df[\"tweets\"].str.lower()"
   ]
  },
  {
   "cell_type": "code",
   "execution_count": 241,
   "id": "b47cd76a",
   "metadata": {},
   "outputs": [
    {
     "data": {
      "text/html": [
       "<div>\n",
       "<style scoped>\n",
       "    .dataframe tbody tr th:only-of-type {\n",
       "        vertical-align: middle;\n",
       "    }\n",
       "\n",
       "    .dataframe tbody tr th {\n",
       "        vertical-align: top;\n",
       "    }\n",
       "\n",
       "    .dataframe thead th {\n",
       "        text-align: right;\n",
       "    }\n",
       "</style>\n",
       "<table border=\"1\" class=\"dataframe\">\n",
       "  <thead>\n",
       "    <tr style=\"text-align: right;\">\n",
       "      <th></th>\n",
       "      <th>tweets</th>\n",
       "    </tr>\n",
       "  </thead>\n",
       "  <tbody>\n",
       "    <tr>\n",
       "      <th>0</th>\n",
       "      <td>chatgpt: optimizing language models for dialog...</td>\n",
       "    </tr>\n",
       "    <tr>\n",
       "      <th>1</th>\n",
       "      <td>try talking with chatgpt, our new ai system wh...</td>\n",
       "    </tr>\n",
       "    <tr>\n",
       "      <th>2</th>\n",
       "      <td>chatgpt: optimizing language models for dialog...</td>\n",
       "    </tr>\n",
       "    <tr>\n",
       "      <th>3</th>\n",
       "      <td>thrilled to share that chatgpt, our new model ...</td>\n",
       "    </tr>\n",
       "    <tr>\n",
       "      <th>4</th>\n",
       "      <td>as of 2 minutes ago, @openai released their ne...</td>\n",
       "    </tr>\n",
       "  </tbody>\n",
       "</table>\n",
       "</div>"
      ],
      "text/plain": [
       "                                              tweets\n",
       "0  chatgpt: optimizing language models for dialog...\n",
       "1  try talking with chatgpt, our new ai system wh...\n",
       "2  chatgpt: optimizing language models for dialog...\n",
       "3  thrilled to share that chatgpt, our new model ...\n",
       "4  as of 2 minutes ago, @openai released their ne..."
      ]
     },
     "execution_count": 241,
     "metadata": {},
     "output_type": "execute_result"
    }
   ],
   "source": [
    "df.head()"
   ]
  },
  {
   "cell_type": "markdown",
   "id": "7d26c294",
   "metadata": {},
   "source": [
    "### Removing Punctuation"
   ]
  },
  {
   "cell_type": "code",
   "execution_count": 242,
   "id": "7b2d21cf",
   "metadata": {},
   "outputs": [],
   "source": [
    "def remove_punct(text):\n",
    "    text = text.translate(str.maketrans(\" \",\" \", string.punctuation ))\n",
    "    return text"
   ]
  },
  {
   "cell_type": "code",
   "execution_count": 243,
   "id": "1e3531c3",
   "metadata": {},
   "outputs": [
    {
     "data": {
      "text/html": [
       "<div>\n",
       "<style scoped>\n",
       "    .dataframe tbody tr th:only-of-type {\n",
       "        vertical-align: middle;\n",
       "    }\n",
       "\n",
       "    .dataframe tbody tr th {\n",
       "        vertical-align: top;\n",
       "    }\n",
       "\n",
       "    .dataframe thead th {\n",
       "        text-align: right;\n",
       "    }\n",
       "</style>\n",
       "<table border=\"1\" class=\"dataframe\">\n",
       "  <thead>\n",
       "    <tr style=\"text-align: right;\">\n",
       "      <th></th>\n",
       "      <th>tweets</th>\n",
       "    </tr>\n",
       "  </thead>\n",
       "  <tbody>\n",
       "    <tr>\n",
       "      <th>0</th>\n",
       "      <td>chatgpt optimizing language models for dialogu...</td>\n",
       "    </tr>\n",
       "    <tr>\n",
       "      <th>1</th>\n",
       "      <td>try talking with chatgpt our new ai system whi...</td>\n",
       "    </tr>\n",
       "    <tr>\n",
       "      <th>2</th>\n",
       "      <td>chatgpt optimizing language models for dialogu...</td>\n",
       "    </tr>\n",
       "    <tr>\n",
       "      <th>3</th>\n",
       "      <td>thrilled to share that chatgpt our new model o...</td>\n",
       "    </tr>\n",
       "    <tr>\n",
       "      <th>4</th>\n",
       "      <td>as of 2 minutes ago openai released their new ...</td>\n",
       "    </tr>\n",
       "  </tbody>\n",
       "</table>\n",
       "</div>"
      ],
      "text/plain": [
       "                                              tweets\n",
       "0  chatgpt optimizing language models for dialogu...\n",
       "1  try talking with chatgpt our new ai system whi...\n",
       "2  chatgpt optimizing language models for dialogu...\n",
       "3  thrilled to share that chatgpt our new model o...\n",
       "4  as of 2 minutes ago openai released their new ..."
      ]
     },
     "execution_count": 243,
     "metadata": {},
     "output_type": "execute_result"
    }
   ],
   "source": [
    "df[\"tweets\"] = df[\"tweets\"].apply(remove_punct)\n",
    "df.head()"
   ]
  },
  {
   "cell_type": "markdown",
   "id": "df96f822",
   "metadata": {},
   "source": [
    "### Removing digits"
   ]
  },
  {
   "cell_type": "code",
   "execution_count": 244,
   "id": "7bd49769",
   "metadata": {},
   "outputs": [],
   "source": [
    "def remove_digits(text):\n",
    "    exclude = text\n",
    "    return \"\".join(token for token in text if not token.isdigit())"
   ]
  },
  {
   "cell_type": "code",
   "execution_count": 245,
   "id": "b313e8e7",
   "metadata": {},
   "outputs": [
    {
     "data": {
      "text/html": [
       "<div>\n",
       "<style scoped>\n",
       "    .dataframe tbody tr th:only-of-type {\n",
       "        vertical-align: middle;\n",
       "    }\n",
       "\n",
       "    .dataframe tbody tr th {\n",
       "        vertical-align: top;\n",
       "    }\n",
       "\n",
       "    .dataframe thead th {\n",
       "        text-align: right;\n",
       "    }\n",
       "</style>\n",
       "<table border=\"1\" class=\"dataframe\">\n",
       "  <thead>\n",
       "    <tr style=\"text-align: right;\">\n",
       "      <th></th>\n",
       "      <th>tweets</th>\n",
       "    </tr>\n",
       "  </thead>\n",
       "  <tbody>\n",
       "    <tr>\n",
       "      <th>0</th>\n",
       "      <td>chatgpt optimizing language models for dialogu...</td>\n",
       "    </tr>\n",
       "    <tr>\n",
       "      <th>1</th>\n",
       "      <td>try talking with chatgpt our new ai system whi...</td>\n",
       "    </tr>\n",
       "    <tr>\n",
       "      <th>2</th>\n",
       "      <td>chatgpt optimizing language models for dialogu...</td>\n",
       "    </tr>\n",
       "    <tr>\n",
       "      <th>3</th>\n",
       "      <td>thrilled to share that chatgpt our new model o...</td>\n",
       "    </tr>\n",
       "    <tr>\n",
       "      <th>4</th>\n",
       "      <td>as of  minutes ago openai released their new c...</td>\n",
       "    </tr>\n",
       "  </tbody>\n",
       "</table>\n",
       "</div>"
      ],
      "text/plain": [
       "                                              tweets\n",
       "0  chatgpt optimizing language models for dialogu...\n",
       "1  try talking with chatgpt our new ai system whi...\n",
       "2  chatgpt optimizing language models for dialogu...\n",
       "3  thrilled to share that chatgpt our new model o...\n",
       "4  as of  minutes ago openai released their new c..."
      ]
     },
     "execution_count": 245,
     "metadata": {},
     "output_type": "execute_result"
    }
   ],
   "source": [
    "df[\"tweets\"] = df[\"tweets\"].apply(remove_digits)\n",
    "df.head()"
   ]
  },
  {
   "cell_type": "markdown",
   "id": "3bc890c3",
   "metadata": {},
   "source": [
    "### Tokenizing the sentences"
   ]
  },
  {
   "cell_type": "code",
   "execution_count": 246,
   "id": "e5d13bd5",
   "metadata": {},
   "outputs": [
    {
     "data": {
      "text/html": [
       "<div>\n",
       "<style scoped>\n",
       "    .dataframe tbody tr th:only-of-type {\n",
       "        vertical-align: middle;\n",
       "    }\n",
       "\n",
       "    .dataframe tbody tr th {\n",
       "        vertical-align: top;\n",
       "    }\n",
       "\n",
       "    .dataframe thead th {\n",
       "        text-align: right;\n",
       "    }\n",
       "</style>\n",
       "<table border=\"1\" class=\"dataframe\">\n",
       "  <thead>\n",
       "    <tr style=\"text-align: right;\">\n",
       "      <th></th>\n",
       "      <th>tweets</th>\n",
       "    </tr>\n",
       "  </thead>\n",
       "  <tbody>\n",
       "    <tr>\n",
       "      <th>0</th>\n",
       "      <td>[chatgpt, optimizing, language, models, for, d...</td>\n",
       "    </tr>\n",
       "    <tr>\n",
       "      <th>1</th>\n",
       "      <td>[try, talking, with, chatgpt, our, new, ai, sy...</td>\n",
       "    </tr>\n",
       "    <tr>\n",
       "      <th>2</th>\n",
       "      <td>[chatgpt, optimizing, language, models, for, d...</td>\n",
       "    </tr>\n",
       "    <tr>\n",
       "      <th>3</th>\n",
       "      <td>[thrilled, to, share, that, chatgpt, our, new,...</td>\n",
       "    </tr>\n",
       "    <tr>\n",
       "      <th>4</th>\n",
       "      <td>[as, of, minutes, ago, openai, released, their...</td>\n",
       "    </tr>\n",
       "  </tbody>\n",
       "</table>\n",
       "</div>"
      ],
      "text/plain": [
       "                                              tweets\n",
       "0  [chatgpt, optimizing, language, models, for, d...\n",
       "1  [try, talking, with, chatgpt, our, new, ai, sy...\n",
       "2  [chatgpt, optimizing, language, models, for, d...\n",
       "3  [thrilled, to, share, that, chatgpt, our, new,...\n",
       "4  [as, of, minutes, ago, openai, released, their..."
      ]
     },
     "execution_count": 246,
     "metadata": {},
     "output_type": "execute_result"
    }
   ],
   "source": [
    "df[\"tweets\"] = df[\"tweets\"].apply(lambda X: word_tokenize(X))\n",
    "df.head()"
   ]
  },
  {
   "cell_type": "markdown",
   "id": "66c84cd0",
   "metadata": {},
   "source": [
    "### Removing Stopwords"
   ]
  },
  {
   "cell_type": "code",
   "execution_count": 247,
   "id": "ef0e61e3",
   "metadata": {},
   "outputs": [],
   "source": [
    "stopwords = stopwords.words(\"english\")"
   ]
  },
  {
   "cell_type": "code",
   "execution_count": 248,
   "id": "8162b1c1",
   "metadata": {},
   "outputs": [],
   "source": [
    "def remove_stopwords(text):\n",
    "    results = []\n",
    "    for token in text:\n",
    "        if token not in stopwords:\n",
    "            results.append(token)\n",
    "    return results"
   ]
  },
  {
   "cell_type": "code",
   "execution_count": 249,
   "id": "1a3ec277",
   "metadata": {},
   "outputs": [],
   "source": [
    "df[\"tweets\"] = df[\"tweets\"].apply(remove_stopwords)"
   ]
  },
  {
   "cell_type": "code",
   "execution_count": 250,
   "id": "960bfdb0",
   "metadata": {},
   "outputs": [
    {
     "data": {
      "text/html": [
       "<div>\n",
       "<style scoped>\n",
       "    .dataframe tbody tr th:only-of-type {\n",
       "        vertical-align: middle;\n",
       "    }\n",
       "\n",
       "    .dataframe tbody tr th {\n",
       "        vertical-align: top;\n",
       "    }\n",
       "\n",
       "    .dataframe thead th {\n",
       "        text-align: right;\n",
       "    }\n",
       "</style>\n",
       "<table border=\"1\" class=\"dataframe\">\n",
       "  <thead>\n",
       "    <tr style=\"text-align: right;\">\n",
       "      <th></th>\n",
       "      <th>tweets</th>\n",
       "    </tr>\n",
       "  </thead>\n",
       "  <tbody>\n",
       "    <tr>\n",
       "      <th>0</th>\n",
       "      <td>[chatgpt, optimizing, language, models, dialog...</td>\n",
       "    </tr>\n",
       "    <tr>\n",
       "      <th>1</th>\n",
       "      <td>[try, talking, chatgpt, new, ai, system, optim...</td>\n",
       "    </tr>\n",
       "    <tr>\n",
       "      <th>2</th>\n",
       "      <td>[chatgpt, optimizing, language, models, dialog...</td>\n",
       "    </tr>\n",
       "    <tr>\n",
       "      <th>3</th>\n",
       "      <td>[thrilled, share, chatgpt, new, model, optimiz...</td>\n",
       "    </tr>\n",
       "    <tr>\n",
       "      <th>4</th>\n",
       "      <td>[minutes, ago, openai, released, new, chatgpt,...</td>\n",
       "    </tr>\n",
       "  </tbody>\n",
       "</table>\n",
       "</div>"
      ],
      "text/plain": [
       "                                              tweets\n",
       "0  [chatgpt, optimizing, language, models, dialog...\n",
       "1  [try, talking, chatgpt, new, ai, system, optim...\n",
       "2  [chatgpt, optimizing, language, models, dialog...\n",
       "3  [thrilled, share, chatgpt, new, model, optimiz...\n",
       "4  [minutes, ago, openai, released, new, chatgpt,..."
      ]
     },
     "execution_count": 250,
     "metadata": {},
     "output_type": "execute_result"
    }
   ],
   "source": [
    "df.head()"
   ]
  },
  {
   "cell_type": "markdown",
   "id": "40b448a6",
   "metadata": {},
   "source": [
    "### Removing frequent words"
   ]
  },
  {
   "cell_type": "code",
   "execution_count": 251,
   "id": "e8868aba",
   "metadata": {},
   "outputs": [],
   "source": [
    "def frequent_words(df):\n",
    "    list = []\n",
    "    for text in df.values:\n",
    "        list += text[0]\n",
    "    frequent = FreqDist(list)\n",
    "    return frequent.most_common(30)\n"
   ]
  },
  {
   "cell_type": "code",
   "execution_count": 252,
   "id": "58413194",
   "metadata": {},
   "outputs": [
    {
     "data": {
      "text/plain": [
       "[('chatgpt', 9444),\n",
       " ('openai', 1770),\n",
       " ('’', 1278),\n",
       " ('ai', 1247),\n",
       " ('asked', 787),\n",
       " ('like', 714),\n",
       " ('new', 712),\n",
       " ('write', 710),\n",
       " ('code', 559),\n",
       " ('good', 536),\n",
       " ('google', 510),\n",
       " ('gpt', 448),\n",
       " ('using', 397),\n",
       " ('questions', 373),\n",
       " ('im', 350),\n",
       " ('get', 346),\n",
       " ('openais', 344),\n",
       " ('answer', 330),\n",
       " ('language', 317),\n",
       " ('time', 311),\n",
       " ('one', 311),\n",
       " ('people', 311),\n",
       " ('really', 307),\n",
       " ('going', 299),\n",
       " ('would', 296),\n",
       " ('chatbot', 289),\n",
       " ('know', 288),\n",
       " ('see', 286),\n",
       " ('even', 283),\n",
       " ('think', 280)]"
      ]
     },
     "execution_count": 252,
     "metadata": {},
     "output_type": "execute_result"
    }
   ],
   "source": [
    "frequent_words(df)"
   ]
  },
  {
   "cell_type": "code",
   "execution_count": 254,
   "id": "6b148e1c",
   "metadata": {},
   "outputs": [],
   "source": [
    "frequent = frequent_words(df)\n",
    "lst = []\n",
    "for a, b in frequent:\n",
    "    lst.append(a)"
   ]
  },
  {
   "cell_type": "code",
   "execution_count": 255,
   "id": "7aab4e8a",
   "metadata": {},
   "outputs": [],
   "source": [
    "def remove_freq(text):\n",
    "    result = []\n",
    "    for item in text:\n",
    "        if item not in lst:\n",
    "            result.append(item)\n",
    "    return result"
   ]
  },
  {
   "cell_type": "code",
   "execution_count": 256,
   "id": "333d1a76",
   "metadata": {},
   "outputs": [],
   "source": [
    "df[\"tweets\"] = df[\"tweets\"].apply(remove_freq)"
   ]
  },
  {
   "cell_type": "markdown",
   "id": "201dfaa2",
   "metadata": {},
   "source": [
    "### Stemming"
   ]
  },
  {
   "cell_type": "code",
   "execution_count": 257,
   "id": "f554629c",
   "metadata": {},
   "outputs": [],
   "source": [
    "def stem(text):\n",
    "    stemmer = PorterStemmer()\n",
    "    results = []\n",
    "    for word in text:\n",
    "        results.append(stemmer.stem(word))\n",
    "    return results"
   ]
  },
  {
   "cell_type": "code",
   "execution_count": 258,
   "id": "417b9bf5",
   "metadata": {},
   "outputs": [
    {
     "data": {
      "text/html": [
       "<div>\n",
       "<style scoped>\n",
       "    .dataframe tbody tr th:only-of-type {\n",
       "        vertical-align: middle;\n",
       "    }\n",
       "\n",
       "    .dataframe tbody tr th {\n",
       "        vertical-align: top;\n",
       "    }\n",
       "\n",
       "    .dataframe thead th {\n",
       "        text-align: right;\n",
       "    }\n",
       "</style>\n",
       "<table border=\"1\" class=\"dataframe\">\n",
       "  <thead>\n",
       "    <tr style=\"text-align: right;\">\n",
       "      <th></th>\n",
       "      <th>tweets</th>\n",
       "    </tr>\n",
       "  </thead>\n",
       "  <tbody>\n",
       "    <tr>\n",
       "      <th>0</th>\n",
       "      <td>[optim, model, dialogu, httpstcokrkrygyyn]</td>\n",
       "    </tr>\n",
       "    <tr>\n",
       "      <th>1</th>\n",
       "      <td>[tri, talk, system, optim, dialogu, feedback, ...</td>\n",
       "    </tr>\n",
       "    <tr>\n",
       "      <th>2</th>\n",
       "      <td>[optim, model, dialogu, httpstcoglebmoknw, mac...</td>\n",
       "    </tr>\n",
       "    <tr>\n",
       "      <th>3</th>\n",
       "      <td>[thrill, share, model, optim, dialog, public, ...</td>\n",
       "    </tr>\n",
       "    <tr>\n",
       "      <th>4</th>\n",
       "      <td>[minut, ago, releas, nnand, use, right, 👇, htt...</td>\n",
       "    </tr>\n",
       "  </tbody>\n",
       "</table>\n",
       "</div>"
      ],
      "text/plain": [
       "                                              tweets\n",
       "0         [optim, model, dialogu, httpstcokrkrygyyn]\n",
       "1  [tri, talk, system, optim, dialogu, feedback, ...\n",
       "2  [optim, model, dialogu, httpstcoglebmoknw, mac...\n",
       "3  [thrill, share, model, optim, dialog, public, ...\n",
       "4  [minut, ago, releas, nnand, use, right, 👇, htt..."
      ]
     },
     "execution_count": 258,
     "metadata": {},
     "output_type": "execute_result"
    }
   ],
   "source": [
    "df[\"tweets\"] = df[\"tweets\"].apply(stem)\n",
    "df.head(5)"
   ]
  },
  {
   "cell_type": "markdown",
   "id": "6510115e",
   "metadata": {},
   "source": [
    "### Bag of words"
   ]
  },
  {
   "cell_type": "code",
   "execution_count": 259,
   "id": "52893c1e",
   "metadata": {},
   "outputs": [],
   "source": [
    "vec = CountVectorizer()"
   ]
  },
  {
   "cell_type": "code",
   "execution_count": 260,
   "id": "cbb572cb",
   "metadata": {},
   "outputs": [
    {
     "data": {
      "text/html": [
       "<style>#sk-container-id-5 {color: black;background-color: white;}#sk-container-id-5 pre{padding: 0;}#sk-container-id-5 div.sk-toggleable {background-color: white;}#sk-container-id-5 label.sk-toggleable__label {cursor: pointer;display: block;width: 100%;margin-bottom: 0;padding: 0.3em;box-sizing: border-box;text-align: center;}#sk-container-id-5 label.sk-toggleable__label-arrow:before {content: \"▸\";float: left;margin-right: 0.25em;color: #696969;}#sk-container-id-5 label.sk-toggleable__label-arrow:hover:before {color: black;}#sk-container-id-5 div.sk-estimator:hover label.sk-toggleable__label-arrow:before {color: black;}#sk-container-id-5 div.sk-toggleable__content {max-height: 0;max-width: 0;overflow: hidden;text-align: left;background-color: #f0f8ff;}#sk-container-id-5 div.sk-toggleable__content pre {margin: 0.2em;color: black;border-radius: 0.25em;background-color: #f0f8ff;}#sk-container-id-5 input.sk-toggleable__control:checked~div.sk-toggleable__content {max-height: 200px;max-width: 100%;overflow: auto;}#sk-container-id-5 input.sk-toggleable__control:checked~label.sk-toggleable__label-arrow:before {content: \"▾\";}#sk-container-id-5 div.sk-estimator input.sk-toggleable__control:checked~label.sk-toggleable__label {background-color: #d4ebff;}#sk-container-id-5 div.sk-label input.sk-toggleable__control:checked~label.sk-toggleable__label {background-color: #d4ebff;}#sk-container-id-5 input.sk-hidden--visually {border: 0;clip: rect(1px 1px 1px 1px);clip: rect(1px, 1px, 1px, 1px);height: 1px;margin: -1px;overflow: hidden;padding: 0;position: absolute;width: 1px;}#sk-container-id-5 div.sk-estimator {font-family: monospace;background-color: #f0f8ff;border: 1px dotted black;border-radius: 0.25em;box-sizing: border-box;margin-bottom: 0.5em;}#sk-container-id-5 div.sk-estimator:hover {background-color: #d4ebff;}#sk-container-id-5 div.sk-parallel-item::after {content: \"\";width: 100%;border-bottom: 1px solid gray;flex-grow: 1;}#sk-container-id-5 div.sk-label:hover label.sk-toggleable__label {background-color: #d4ebff;}#sk-container-id-5 div.sk-serial::before {content: \"\";position: absolute;border-left: 1px solid gray;box-sizing: border-box;top: 0;bottom: 0;left: 50%;z-index: 0;}#sk-container-id-5 div.sk-serial {display: flex;flex-direction: column;align-items: center;background-color: white;padding-right: 0.2em;padding-left: 0.2em;position: relative;}#sk-container-id-5 div.sk-item {position: relative;z-index: 1;}#sk-container-id-5 div.sk-parallel {display: flex;align-items: stretch;justify-content: center;background-color: white;position: relative;}#sk-container-id-5 div.sk-item::before, #sk-container-id-5 div.sk-parallel-item::before {content: \"\";position: absolute;border-left: 1px solid gray;box-sizing: border-box;top: 0;bottom: 0;left: 50%;z-index: -1;}#sk-container-id-5 div.sk-parallel-item {display: flex;flex-direction: column;z-index: 1;position: relative;background-color: white;}#sk-container-id-5 div.sk-parallel-item:first-child::after {align-self: flex-end;width: 50%;}#sk-container-id-5 div.sk-parallel-item:last-child::after {align-self: flex-start;width: 50%;}#sk-container-id-5 div.sk-parallel-item:only-child::after {width: 0;}#sk-container-id-5 div.sk-dashed-wrapped {border: 1px dashed gray;margin: 0 0.4em 0.5em 0.4em;box-sizing: border-box;padding-bottom: 0.4em;background-color: white;}#sk-container-id-5 div.sk-label label {font-family: monospace;font-weight: bold;display: inline-block;line-height: 1.2em;}#sk-container-id-5 div.sk-label-container {text-align: center;}#sk-container-id-5 div.sk-container {/* jupyter's `normalize.less` sets `[hidden] { display: none; }` but bootstrap.min.css set `[hidden] { display: none !important; }` so we also need the `!important` here to be able to override the default hidden behavior on the sphinx rendered scikit-learn.org. See: https://github.com/scikit-learn/scikit-learn/issues/21755 */display: inline-block !important;position: relative;}#sk-container-id-5 div.sk-text-repr-fallback {display: none;}</style><div id=\"sk-container-id-5\" class=\"sk-top-container\"><div class=\"sk-text-repr-fallback\"><pre>CountVectorizer()</pre><b>In a Jupyter environment, please rerun this cell to show the HTML representation or trust the notebook. <br />On GitHub, the HTML representation is unable to render, please try loading this page with nbviewer.org.</b></div><div class=\"sk-container\" hidden><div class=\"sk-item\"><div class=\"sk-estimator sk-toggleable\"><input class=\"sk-toggleable__control sk-hidden--visually\" id=\"sk-estimator-id-5\" type=\"checkbox\" checked><label for=\"sk-estimator-id-5\" class=\"sk-toggleable__label sk-toggleable__label-arrow\">CountVectorizer</label><div class=\"sk-toggleable__content\"><pre>CountVectorizer()</pre></div></div></div></div></div>"
      ],
      "text/plain": [
       "CountVectorizer()"
      ]
     },
     "execution_count": 260,
     "metadata": {},
     "output_type": "execute_result"
    }
   ],
   "source": [
    "text = df[\"tweets\"].map(' '.join)\n",
    "vec.fit(text)"
   ]
  },
  {
   "cell_type": "code",
   "execution_count": 261,
   "id": "9377a873",
   "metadata": {},
   "outputs": [],
   "source": [
    "converted = vec.transform(text)"
   ]
  },
  {
   "cell_type": "code",
   "execution_count": 262,
   "id": "14a3f834",
   "metadata": {},
   "outputs": [
    {
     "data": {
      "text/plain": [
       "(10000, 21817)"
      ]
     },
     "execution_count": 262,
     "metadata": {},
     "output_type": "execute_result"
    }
   ],
   "source": [
    "converted.shape"
   ]
  },
  {
   "cell_type": "markdown",
   "id": "8ccbb9c1",
   "metadata": {},
   "source": [
    "After applying the bag of words vectorizer we obtained vectors od shape 21 817. Which means the network must have as many nodes in the input layer."
   ]
  },
  {
   "cell_type": "markdown",
   "id": "659ee3c3",
   "metadata": {},
   "source": [
    "### Splitting the training and testing data"
   ]
  },
  {
   "cell_type": "code",
   "execution_count": 263,
   "id": "49e379be",
   "metadata": {},
   "outputs": [],
   "source": [
    "X_train, X_test, y_train ,y_test = train_test_split(converted, target, random_state = 42, test_size = 0.25, shuffle = True)"
   ]
  },
  {
   "cell_type": "code",
   "execution_count": 264,
   "id": "1a659795",
   "metadata": {},
   "outputs": [],
   "source": [
    "y_train = y_train.to_numpy()\n",
    "y_test = y_test.to_numpy()"
   ]
  },
  {
   "cell_type": "markdown",
   "id": "1e5c30a4",
   "metadata": {},
   "source": [
    "### Encoding the target "
   ]
  },
  {
   "cell_type": "code",
   "execution_count": 265,
   "id": "0943d568",
   "metadata": {},
   "outputs": [],
   "source": [
    "encoder =  LabelEncoder()\n",
    "y_train = encoder.fit_transform(y_train)\n",
    "y_test = encoder.transform(y_test)"
   ]
  },
  {
   "cell_type": "markdown",
   "id": "af126145",
   "metadata": {},
   "source": [
    "### Constructing sparse matrices for the training and testing sets"
   ]
  },
  {
   "cell_type": "code",
   "execution_count": 266,
   "id": "eea576aa",
   "metadata": {},
   "outputs": [],
   "source": [
    "coo_t = coo_matrix(X_train, dtype= \"float32\")\n",
    "values = coo_t.data\n",
    "indices = np.vstack((coo_t.row, coo_t.col))\n",
    "\n",
    "i = torch.LongTensor(indices)\n",
    "v = torch.FloatTensor(values)\n",
    "shape = coo_t.shape\n",
    "\n",
    "X = torch.sparse.FloatTensor(i, v, torch.Size(shape)).to_dense()"
   ]
  },
  {
   "cell_type": "code",
   "execution_count": 267,
   "id": "d2bcd35a",
   "metadata": {},
   "outputs": [],
   "source": [
    "coo_v = coo_matrix(X_test, dtype= \"float32\")\n",
    "\n",
    "values = coo_v.data\n",
    "indices = np.vstack((coo_v.row, coo_v.col))\n",
    "\n",
    "i = torch.LongTensor(indices)\n",
    "v = torch.FloatTensor(values)\n",
    "shape = coo_v.shape\n",
    "\n",
    "Y = torch.sparse.FloatTensor(i, v, torch.Size(shape)).to_dense()"
   ]
  },
  {
   "cell_type": "markdown",
   "id": "29f71ced",
   "metadata": {},
   "source": [
    "### Creating the train/test loaders"
   ]
  },
  {
   "cell_type": "code",
   "execution_count": 268,
   "id": "eeb01d6b",
   "metadata": {},
   "outputs": [],
   "source": [
    "class Train_loader(Dataset):\n",
    "    def __init__(self):\n",
    "        self.X = X\n",
    "        self.Y = torch.tensor(y_train, dtype = torch.long)\n",
    "        self.len = self.X.shape[0]\n",
    "    def __getitem__(self, index):\n",
    "        return self.X[index], self.Y[index]\n",
    "    def __len__(self):\n",
    "        return self.len"
   ]
  },
  {
   "cell_type": "code",
   "execution_count": 269,
   "id": "cd263998",
   "metadata": {},
   "outputs": [],
   "source": [
    "class Test_loader(Dataset):\n",
    "    def __init__(self):\n",
    "        self.X = Y\n",
    "        self.Y = torch.tensor(y_test, dtype = torch.long)\n",
    "        self.len = self.X.shape[0]\n",
    "    def __getitem__(self, index):\n",
    "        return self.X[index], self.Y[index]\n",
    "    def __len__(self):\n",
    "        return self.len"
   ]
  },
  {
   "cell_type": "code",
   "execution_count": 270,
   "id": "c4f87921",
   "metadata": {},
   "outputs": [],
   "source": [
    "train_data = Train_loader()\n",
    "test_data = Test_loader()"
   ]
  },
  {
   "cell_type": "code",
   "execution_count": 271,
   "id": "b5c47ac6",
   "metadata": {},
   "outputs": [],
   "source": [
    "train_loader = DataLoader(dataset = train_data, batch_size= 128)\n",
    "test_loader = DataLoader(dataset = test_data, batch_size= 128)"
   ]
  },
  {
   "cell_type": "markdown",
   "id": "dd0e77ca",
   "metadata": {},
   "source": [
    "In here I created train and test loaders that will take data in batches for the network to process, I chose a big batch size because I discovered that for this dataset the higher the batch size the higher is the accuracy."
   ]
  },
  {
   "cell_type": "markdown",
   "id": "31517cab",
   "metadata": {},
   "source": [
    "### Building the classifier"
   ]
  },
  {
   "cell_type": "code",
   "execution_count": 272,
   "id": "098e153a",
   "metadata": {},
   "outputs": [],
   "source": [
    "class Classifier(nn.Module):\n",
    "    def __init__(self):\n",
    "        super().__init__()\n",
    "        self.fc1 = nn.Linear(21817, 190)\n",
    "        self.fc2 = nn.Linear(190, 3)\n",
    "        \n",
    "        self.dropout = nn.Dropout(p= 0.7)\n",
    "        self.batchn1 = nn.BatchNorm1d(190)\n",
    "\n",
    "    \n",
    "    def forward(self, x):\n",
    "        \n",
    "        \n",
    "        x = self.dropout(F.leaky_relu(self.batchn1(self.fc1(x))))\n",
    "        \n",
    "        x = F.log_softmax(self.fc2(x), dim=1)\n",
    "        \n",
    "        return x"
   ]
  },
  {
   "cell_type": "code",
   "execution_count": 273,
   "id": "ac066c86",
   "metadata": {},
   "outputs": [],
   "source": [
    "classifier = Classifier()\n",
    "criterion = nn.NLLLoss()\n",
    "optimizer = optim.Adam(classifier.parameters(), lr= 0.0005)"
   ]
  },
  {
   "cell_type": "markdown",
   "id": "987a3a0a",
   "metadata": {},
   "source": [
    "### training and Inference"
   ]
  },
  {
   "cell_type": "code",
   "execution_count": 274,
   "id": "cf015369",
   "metadata": {},
   "outputs": [
    {
     "name": "stdout",
     "output_type": "stream",
     "text": [
      "Epoch 1 Accuracy 82.8\n",
      "Epoch 2 Accuracy 87.25\n",
      "Epoch 3 Accuracy 88.2\n",
      "Epoch 4 Accuracy 88.0\n",
      "Epoch 5 Accuracy 88.45\n",
      "Epoch 6 Accuracy 88.2\n",
      "Epoch 7 Accuracy 88.0\n",
      "Epoch 8 Accuracy 87.8\n",
      "Epoch 9 Accuracy 87.4\n",
      "Epoch 10 Accuracy 87.15\n",
      "Epoch 11 Accuracy 87.2\n",
      "Epoch 12 Accuracy 87.85\n",
      "Epoch 13 Accuracy 86.8\n",
      "Epoch 14 Accuracy 87.05\n",
      "Epoch 15 Accuracy 87.25\n",
      "Epoch 16 Accuracy 87.0\n",
      "Epoch 17 Accuracy 86.7\n",
      "Epoch 18 Accuracy 86.5\n",
      "Epoch 19 Accuracy 86.85\n",
      "Epoch 20 Accuracy 87.05\n",
      "Epoch 21 Accuracy 86.8\n",
      "Epoch 22 Accuracy 86.65\n",
      "Epoch 23 Accuracy 86.25\n",
      "Epoch 24 Accuracy 86.6\n",
      "Epoch 25 Accuracy 87.0\n",
      "Epoch 26 Accuracy 86.55\n",
      "Epoch 27 Accuracy 86.5\n",
      "Epoch 28 Accuracy 86.7\n",
      "Epoch 29 Accuracy 86.55\n",
      "Epoch 30 Accuracy 86.4\n"
     ]
    }
   ],
   "source": [
    "epochs = 30\n",
    "train_loss, test_loss = [], []\n",
    "train_accuracy, test_accuracy = [],[]\n",
    "for epoch in range(epochs):\n",
    "    t_loss = 0\n",
    "    train_acc = 0\n",
    "    for sentence, label in train_loader:\n",
    "        optimizer.zero_grad()\n",
    "        logits = classifier(sentence)\n",
    "        loss = criterion(logits, label)\n",
    "        t_loss += loss.item()\n",
    "        ps = torch.exp(logits)\n",
    "        top_k, top_class = ps.topk(1, dim=1)\n",
    "        equals = top_class == label.view(*top_class.shape)\n",
    "        train_acc += equals.sum().item()\n",
    "        loss.backward()\n",
    "        optimizer.step()\n",
    "    \n",
    "    else:\n",
    "        accuracy = 0\n",
    "        v_loss = 0\n",
    "        with torch.no_grad():\n",
    "            classifier.eval()\n",
    "            for sentence, label in test_loader:\n",
    "                logits = classifier(sentence)\n",
    "                loss = criterion(logits, label)\n",
    "                v_loss += loss.item()\n",
    "                ps = torch.exp(logits)\n",
    "                top_k, top_class = ps.topk(1, dim=1)\n",
    "                equals = top_class == label.view(*top_class.shape)\n",
    "                accuracy += equals.sum().item()\n",
    "        \n",
    "        train_loss.append(t_loss/len(train_loader.dataset))\n",
    "        test_loss.append(v_loss/len(test_loader.dataset))\n",
    "        train_accuracy.append(train_acc /len(train_loader))\n",
    "        test_accuracy.append(accuracy/len(test_loader))\n",
    "        classifier.train()\n",
    "        \n",
    "        print(\"Epoch\", epoch+1, \"Accuracy\", accuracy/len(test_loader))"
   ]
  },
  {
   "cell_type": "markdown",
   "id": "59989aca",
   "metadata": {},
   "source": [
    "This is the part where I build the network. I created a simple network with only two layers (input, output), I also used a dropout by 70% and batch normalization. I used the negative log likelihood loss as my loss criterion and Adam optimizer for the gradient optimization part with a learning rate of 0.0005. I set up the epochs for 30, looped through every instance in the batch, passed the instance through the classifier, calculated the error and backpropagated it to set up the new gradients. And after each loop of training I made predictions and calculated the accuracy. The accuracy I got is not below 85% which means that my classifier is able to differenciate between the three classes."
   ]
  },
  {
   "cell_type": "code",
   "execution_count": 275,
   "id": "c4654c4b",
   "metadata": {},
   "outputs": [
    {
     "data": {
      "text/plain": [
       "<matplotlib.legend.Legend at 0x279f6613700>"
      ]
     },
     "execution_count": 275,
     "metadata": {},
     "output_type": "execute_result"
    },
    {
     "data": {
      "image/png": "[encoded data removed]",
      "text/plain": [
       "<Figure size 640x480 with 1 Axes>"
      ]
     },
     "metadata": {},
     "output_type": "display_data"
    }
   ],
   "source": [
    "plt.plot(train_loss, label=\"training loss\")\n",
    "plt.plot(test_loss, label=\"testing loss\")\n",
    "plt.legend()"
   ]
  },
  {
   "cell_type": "code",
   "execution_count": 276,
   "id": "8328a6fc",
   "metadata": {},
   "outputs": [
    {
     "data": {
      "text/plain": [
       "<matplotlib.legend.Legend at 0x279f804dc90>"
      ]
     },
     "execution_count": 276,
     "metadata": {},
     "output_type": "execute_result"
    },
    {
     "data": {
      "image/png": "[encoded data removed]",
      "text/plain": [
       "<Figure size 640x480 with 1 Axes>"
      ]
     },
     "metadata": {},
     "output_type": "display_data"
    }
   ],
   "source": [
    "plt.plot(train_accuracy, label=\"training accuracy\")\n",
    "plt.plot(test_accuracy, label=\"testing accuracy\")\n",
    "plt.legend()"
   ]
  },
  {
   "cell_type": "markdown",
   "id": "24fd5865",
   "metadata": {},
   "source": [
    "The accuracy and loss plots on the training VS testing set shows a much higher accuracy on training then testing and much lower error on training then testing. I can say that my model overfits that's why I used dropout and batch normalization earlier. But its performence on the testing set is good enough for it to be used"
   ]
  },
  {
   "cell_type": "markdown",
   "id": "91ed9e15",
   "metadata": {},
   "source": [
    "### Trying out the model"
   ]
  },
  {
   "cell_type": "code",
   "execution_count": 280,
   "id": "1214b48a",
   "metadata": {},
   "outputs": [],
   "source": [
    "t = pd.DataFrame(target)"
   ]
  },
  {
   "cell_type": "code",
   "execution_count": 282,
   "id": "fe10f75c",
   "metadata": {},
   "outputs": [
    {
     "data": {
      "text/html": [
       "<div>\n",
       "<style scoped>\n",
       "    .dataframe tbody tr th:only-of-type {\n",
       "        vertical-align: middle;\n",
       "    }\n",
       "\n",
       "    .dataframe tbody tr th {\n",
       "        vertical-align: top;\n",
       "    }\n",
       "\n",
       "    .dataframe thead th {\n",
       "        text-align: right;\n",
       "    }\n",
       "</style>\n",
       "<table border=\"1\" class=\"dataframe\">\n",
       "  <thead>\n",
       "    <tr style=\"text-align: right;\">\n",
       "      <th></th>\n",
       "      <th>labels</th>\n",
       "      <th>encoding</th>\n",
       "    </tr>\n",
       "  </thead>\n",
       "  <tbody>\n",
       "    <tr>\n",
       "      <th>0</th>\n",
       "      <td>neutral</td>\n",
       "      <td>2</td>\n",
       "    </tr>\n",
       "    <tr>\n",
       "      <th>1</th>\n",
       "      <td>good</td>\n",
       "      <td>1</td>\n",
       "    </tr>\n",
       "    <tr>\n",
       "      <th>4</th>\n",
       "      <td>bad</td>\n",
       "      <td>0</td>\n",
       "    </tr>\n",
       "  </tbody>\n",
       "</table>\n",
       "</div>"
      ],
      "text/plain": [
       "    labels  encoding\n",
       "0  neutral         2\n",
       "1     good         1\n",
       "4      bad         0"
      ]
     },
     "execution_count": 282,
     "metadata": {},
     "output_type": "execute_result"
    }
   ],
   "source": [
    "t[\"encoding\"] = encoder.transform(t[\"labels\"].values)\n",
    "t = t.drop_duplicates('labels')\n",
    "t"
   ]
  },
  {
   "cell_type": "code",
   "execution_count": 330,
   "id": "ca89324c",
   "metadata": {},
   "outputs": [
    {
     "name": "stdout",
     "output_type": "stream",
     "text": [
      "sentence:  As of 2 minutes ago, @OpenAI released their new ChatGPT. \\n\\nAnd you can use it right now 👇 https://t.co/VyPGPNw988 https://t.co/cSn5h6h1M1\n",
      "Actual label tensor(1)\n",
      "Model's probabilities:  tensor([[8.3546e-07, 9.9999e-01, 1.2251e-05]])\n"
     ]
    }
   ],
   "source": [
    "classifier.eval()\n",
    "sentence = data[\"tweets\"][4]\n",
    "print(\"sentence: \",sentence)\n",
    "sentence, label = next(iter(train_loader))\n",
    "s = sentence[4]\n",
    "s = s.view(1, s.shape[0])\n",
    "with torch.no_grad():\n",
    "    output = classifier(s)\n",
    "ps = torch.exp(output)\n",
    "print(\"Actual label\", label[4])\n",
    "print(\"Model's probabilities: \", ps)"
   ]
  },
  {
   "cell_type": "code",
   "execution_count": 332,
   "id": "c84ec997",
   "metadata": {},
   "outputs": [
    {
     "name": "stdout",
     "output_type": "stream",
     "text": [
      "sentence:  OpenAI ChatGPT: Optimizing Language Models for Dialogue https://t.co/BRJfW34pdY \\n2\n",
      "Actual label tensor(0)\n",
      "Model's probabilities:  tensor([[9.9850e-01, 1.3462e-03, 1.5146e-04]])\n"
     ]
    }
   ],
   "source": [
    "sentence = data[\"tweets\"][18]\n",
    "print(\"sentence: \",sentence)\n",
    "sentence, label = next(iter(train_loader))\n",
    "s = sentence[18]\n",
    "s = s.view(1, s.shape[0])\n",
    "with torch.no_grad():\n",
    "    output = classifier(s)\n",
    "ps = torch.exp(output)\n",
    "print(\"Actual label\", label[18])\n",
    "print(\"Model's probabilities: \", ps)"
   ]
  },
  {
   "cell_type": "code",
   "execution_count": 336,
   "id": "c0bff540",
   "metadata": {},
   "outputs": [
    {
     "name": "stdout",
     "output_type": "stream",
     "text": [
      "sentence:  OpenAI ChatGPT: Optimizing Language Models for Dialogue https://t.co/jRycgdz0gI\n",
      "Actual label tensor(2)\n",
      "Model's probabilities:  tensor([[1.5141e-05, 2.8746e-05, 9.9996e-01]])\n"
     ]
    }
   ],
   "source": [
    "sentence = data[\"tweets\"][22]\n",
    "print(\"sentence: \",sentence)\n",
    "sentence, label = next(iter(train_loader))\n",
    "s = sentence[22]\n",
    "s = s.view(1, s.shape[0])\n",
    "with torch.no_grad():\n",
    "    output = classifier(s)\n",
    "ps = torch.exp(output)\n",
    "print(\"Actual label\", label[22])\n",
    "print(\"Model's probabilities: \", ps)"
   ]
  },
  {
   "cell_type": "markdown",
   "id": "f25e2196",
   "metadata": {},
   "source": [
    "First of all I printed out the labels and their encoding (0 for bad, 1 for good, and 2 for neutral). I then printed sentences and their actual label and passed them through my classifier where I got 3 probabilities each representing a class. Comparing the highest probabilities and the actual labels, I can see that the model did great on the three instances."
   ]
  },
  {
   "cell_type": "markdown",
   "id": "858021f1",
   "metadata": {},
   "source": [
    "## Conclusion\n",
    "\n",
    "In this notebook I had the chance to experiment with a simple neural network to classify sentiment for ChatGPT. I used backpropagation to train my network and update its gradients at each iteration. the result was a classifier that overfits but can accurately predict the class up to 85%. "
   ]
  },
  {
   "cell_type": "code",
   "execution_count": null,
   "id": "2af45b6e",
   "metadata": {},
   "outputs": [],
   "source": []
  }
 ],
 "metadata": {
  "kernelspec": {
   "display_name": "Python 3 (ipykernel)",
   "language": "python",
   "name": "python3"
  },
  "language_info": {
   "codemirror_mode": {
    "name": "ipython",
    "version": 3
   },
   "file_extension": ".py",
   "mimetype": "text/x-python",
   "name": "python",
   "nbconvert_exporter": "python",
   "pygments_lexer": "ipython3",
   "version": "3.10.9"
  }
 },
 "nbformat": 4,
 "nbformat_minor": 5
}
